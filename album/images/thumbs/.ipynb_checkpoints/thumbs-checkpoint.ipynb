{
 "cells": [
  {
   "cell_type": "code",
   "execution_count": 2,
   "metadata": {},
   "outputs": [
    {
     "name": "stdout",
     "output_type": "stream",
     "text": [
      "(300, 400)\n",
      "002.jpg\n",
      "(300, 400)\n",
      "003.jpg\n",
      "(300, 400)\n",
      "001.jpg\n",
      "(400, 300)\n",
      "004.jpg\n",
      "(300, 400)\n",
      "010.jpg\n",
      "(400, 300)\n",
      "005.jpg\n",
      "(300, 400)\n",
      "007.jpg\n",
      "(300, 400)\n",
      "006.jpg\n",
      "(400, 300)\n",
      "008.jpg\n",
      "(400, 300)\n",
      "009.jpg\n"
     ]
    }
   ],
   "source": [
    "# 連番サムネイル\n",
    "import glob, os\n",
    "from PIL import Image\n",
    "# ファイル列挙\n",
    "files = glob.glob(\"*.jpg\")\n",
    "# 繰り返しリネーム\n",
    "for file in files:\n",
    "    # 画像を開く\n",
    "    image = Image.open(file)\n",
    "    # サムネイル化する\n",
    "    image.thumbnail((400, 400))\n",
    "    print(image.size)  # (225, 400)\n",
    "    image.save(file)\n",
    "    # 状況を報告\n",
    "    print(file)"
   ]
  },
  {
   "cell_type": "code",
   "execution_count": null,
   "metadata": {},
   "outputs": [],
   "source": []
  }
 ],
 "metadata": {
  "kernelspec": {
   "display_name": "Python 3",
   "language": "python",
   "name": "python3"
  },
  "language_info": {
   "codemirror_mode": {
    "name": "ipython",
    "version": 3
   },
   "file_extension": ".py",
   "mimetype": "text/x-python",
   "name": "python",
   "nbconvert_exporter": "python",
   "pygments_lexer": "ipython3",
   "version": "3.6.5"
  }
 },
 "nbformat": 4,
 "nbformat_minor": 2
}
