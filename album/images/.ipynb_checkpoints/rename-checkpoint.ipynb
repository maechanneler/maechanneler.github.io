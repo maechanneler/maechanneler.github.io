{
 "cells": [
  {
   "cell_type": "code",
   "execution_count": 1,
   "metadata": {},
   "outputs": [
    {
     "name": "stdout",
     "output_type": "stream",
     "text": [
      "UNADJUSTEDNONRAW_thumb_e3.jpg→001.jpg\n",
      "UNADJUSTEDNONRAW_thumb_f9.jpg→002.jpg\n",
      "UNADJUSTEDNONRAW_thumb_ea.jpg→003.jpg\n",
      "UNADJUSTEDNONRAW_thumb_95.jpg→004.jpg\n",
      "UNADJUSTEDNONRAW_thumb_10b.jpg→005.jpg\n",
      "UNADJUSTEDNONRAW_thumb_101.jpg→006.jpg\n",
      "UNADJUSTEDNONRAW_thumb_87.jpg→007.jpg\n",
      "UNADJUSTEDNONRAW_thumb_b0.jpg→008.jpg\n",
      "UNADJUSTEDNONRAW_thumb_103.jpg→009.jpg\n",
      "z9QTskTVS6SI7Q4hFaH5%Q_thumb_c8.jpg→010.jpg\n"
     ]
    }
   ],
   "source": [
    "# 連番リネーム\n",
    "import glob, os # --- (*1)\n",
    "# ファイル列挙 --- (*2)\n",
    "files = glob.glob(\"*.jpg\")\n",
    "# 繰り返しリネーム --- (*3)\n",
    "i = 1\n",
    "for old_name in files:\n",
    "    # 数値を三桁(001)形式にそろえる --- (*4)\n",
    "    zero_i = \"{0:03d}\".format(i)\n",
    "    # ファイル名を作る\n",
    "    new_name = zero_i + \".jpg\"\n",
    "    # 改名する --- (*5)\n",
    "    os.rename(old_name, new_name)\n",
    "    # 状況を報告\n",
    "    print(old_name + \"→\" + new_name)\n",
    "    # 連番のため数値を加算 --- (*6)\n",
    "    i += 1"
   ]
  },
  {
   "cell_type": "code",
   "execution_count": null,
   "metadata": {},
   "outputs": [],
   "source": []
  }
 ],
 "metadata": {
  "kernelspec": {
   "display_name": "Python 3",
   "language": "python",
   "name": "python3"
  },
  "language_info": {
   "codemirror_mode": {
    "name": "ipython",
    "version": 3
   },
   "file_extension": ".py",
   "mimetype": "text/x-python",
   "name": "python",
   "nbconvert_exporter": "python",
   "pygments_lexer": "ipython3",
   "version": "3.6.5"
  }
 },
 "nbformat": 4,
 "nbformat_minor": 2
}
